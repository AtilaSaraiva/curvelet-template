{
 "cells": [
  {
   "cell_type": "markdown",
   "metadata": {},
   "source": [
    "# Demo: Single Curvelet (Interactive)"
   ]
  },
  {
   "cell_type": "code",
   "execution_count": 1,
   "metadata": {},
   "outputs": [
    {
     "ename": "ModuleNotFoundError",
     "evalue": "No module named 'ipywidgets'",
     "output_type": "error",
     "traceback": [
      "\u001b[0;31m---------------------------------------------------------------------------\u001b[0m",
      "\u001b[0;31mModuleNotFoundError\u001b[0m                       Traceback (most recent call last)",
      "Input \u001b[0;32mIn [1]\u001b[0m, in \u001b[0;36m<cell line: 5>\u001b[0;34m()\u001b[0m\n\u001b[1;32m      2\u001b[0m \u001b[38;5;28;01mimport\u001b[39;00m \u001b[38;5;21;01mmatplotlib\u001b[39;00m\u001b[38;5;21;01m.\u001b[39;00m\u001b[38;5;21;01mpyplot\u001b[39;00m \u001b[38;5;28;01mas\u001b[39;00m \u001b[38;5;21;01mplt\u001b[39;00m\n\u001b[1;32m      3\u001b[0m \u001b[38;5;28;01mfrom\u001b[39;00m \u001b[38;5;21;01mcurvelops\u001b[39;00m \u001b[38;5;28;01mimport\u001b[39;00m FDCT2D\n\u001b[0;32m----> 5\u001b[0m \u001b[38;5;28;01mfrom\u001b[39;00m \u001b[38;5;21;01mipywidgets\u001b[39;00m \u001b[38;5;28;01mimport\u001b[39;00m interactive_output, IntSlider, VBox, HBox\n",
      "\u001b[0;31mModuleNotFoundError\u001b[0m: No module named 'ipywidgets'"
     ]
    }
   ],
   "source": [
    "import numpy as np\n",
    "import matplotlib.pyplot as plt\n",
    "from curvelops import FDCT2D\n",
    "\n",
    "from ipywidgets import interactive_output, IntSlider, VBox, HBox"
   ]
  },
  {
   "cell_type": "markdown",
   "metadata": {},
   "source": [
    "### Setup"
   ]
  },
  {
   "cell_type": "code",
   "execution_count": null,
   "metadata": {},
   "outputs": [],
   "source": [
    "nx = 300\n",
    "nz = 350\n",
    "\n",
    "# Create operator\n",
    "DCT = FDCT2D((nx, nz), nbangles_coarse=8)\n",
    "\n",
    "# Create empty structure for curvelet\n",
    "y_struct = DCT.struct(np.zeros(DCT.shape[0]))"
   ]
  },
  {
   "cell_type": "markdown",
   "metadata": {},
   "source": [
    "### Plotting"
   ]
  },
  {
   "cell_type": "code",
   "execution_count": null,
   "metadata": {},
   "outputs": [],
   "source": [
    "def display_curvelet(scale=1, wedge=1, ix=1, iy=1):\n",
    "    s = scale - 1\n",
    "    w = wedge - 1\n",
    "    \n",
    "    # Populate curvelet\n",
    "    y_new = DCT.struct(np.zeros(DCT.shape[0]))\n",
    "    A, B = y_new[s][w].shape\n",
    "    iy = max(1, min(iy, A))\n",
    "    ix = max(1, min(ix, B))\n",
    "    y_new[s][w][iy-1, ix-1] = 1.\n",
    "    \n",
    "    x = DCT.H * DCT.vect(y_new)\n",
    "    x = x.reshape((nx, nz))\n",
    "    \n",
    "    x_fk = np.fft.fft2(x)\n",
    "    x_fk = np.fft.fftshift(x_fk)\n",
    "    \n",
    "    vmin, vmax = 0.8 * np.array([-1,1]) * np.abs(np.max(x))\n",
    "    fig, ax = plt.subplots(2,2, figsize=(8,8), sharex='row', sharey='row')\n",
    "    ax[0, 0].imshow(np.real(x.T), cmap='gray', vmin=vmin, vmax=vmax)\n",
    "    ax[0, 1].imshow(np.imag(x.T), cmap='gray', vmin=vmin, vmax=vmax)\n",
    "    ax[1, 0].imshow(np.abs(x_fk.T), cmap='gray', vmin=0)\n",
    "    ax[1, 1].imshow(np.abs(x_fk.T) * np.angle(x_fk.T, deg=True), cmap='gray', vmin=-180, vmax=180)\n",
    "    ax[0, 0].set(title='Space domain (Real)')\n",
    "    ax[0, 1].set(title='Space domain (Imag)')\n",
    "    ax[1, 0].set(title='Frequency domain (Abs)')\n",
    "    ax[1, 1].set(title='Frequency domain (Abs * Phase)')\n",
    "    ax[0,0].axvline(nx/2, color='y', alpha=0.5)\n",
    "    ax[0,0].axhline(nz/2, color='y', alpha=0.5)\n",
    "    ax[0,1].axvline(nx/2, color='y', alpha=0.5)\n",
    "    ax[0,1].axhline(nz/2, color='y', alpha=0.5)    \n",
    "    fig.tight_layout()"
   ]
  },
  {
   "cell_type": "code",
   "execution_count": null,
   "metadata": {},
   "outputs": [],
   "source": [
    "display_curvelet(scale=3, wedge=3, ix=y_struct[2][2].shape[1]//2+1, iy=y_struct[2][2].shape[0]//2+1)"
   ]
  },
  {
   "cell_type": "markdown",
   "metadata": {},
   "source": [
    "### Interactive"
   ]
  },
  {
   "cell_type": "code",
   "execution_count": null,
   "metadata": {},
   "outputs": [],
   "source": [
    "max_scale = DCT.nbscales\n",
    "max_wedge = len(y_struct[0])\n",
    "max_iy, max_ix =  y_struct[0][0].shape\n",
    "curr_scale = 1\n",
    "curr_wedge = 1\n",
    "\n",
    "slider_scale = IntSlider(min=1, max=max_scale, value=curr_scale, step=1,description='Scales')\n",
    "slider_wedge = IntSlider(min=1, max=max_wedge, value=curr_wedge, step=1, description='Wedge')\n",
    "slider_ix = IntSlider(min=1, max=max_ix, value=max_ix//2 + 1, step=1, description='X Index')\n",
    "slider_iy = IntSlider(min=1, max=max_iy, value=max_iy//2 + 1, step=1, description='Y Index')\n",
    "\n",
    "def handle_scale_change(change):\n",
    "    global curr_scale\n",
    "    curr_scale = change.new\n",
    "    slider_wedge.max = len(y_struct[curr_scale-1])\n",
    "    global curr_wedge\n",
    "    curr_wedge = slider_wedge.value\n",
    "    A, B = y_struct[curr_scale-1][curr_wedge-1].shape\n",
    "    slider_ix.max = B\n",
    "    slider_iy.max = A\n",
    "\n",
    "def handle_wedge_change(change):\n",
    "    global curr_wedge\n",
    "    curr_wedge = change.new\n",
    "    A, B = y_struct[curr_scale-1][curr_wedge-1].shape\n",
    "    slider_ix.max = B\n",
    "    slider_iy.max = A\n",
    "\n",
    "slider_scale.observe(handle_scale_change, names='value')\n",
    "slider_wedge.observe(handle_wedge_change, names='value')\n",
    "\n",
    "out = interactive_output(display_curvelet,\n",
    "                         {\"scale\": slider_scale, \"wedge\": slider_wedge, \"ix\":  slider_ix,  \"iy\":  slider_iy})\n",
    "vbox1 = VBox([slider_scale, slider_wedge])\n",
    "vbox2 = VBox([slider_ix, slider_iy])\n",
    "ui = HBox([vbox1, vbox2])\n",
    "display(ui, out, continuous_update=False)"
   ]
  }
 ],
 "metadata": {
  "@webio": {
   "lastCommId": null,
   "lastKernelId": null
  },
  "kernelspec": {
   "display_name": "Python 3",
   "language": "python",
   "name": "python3"
  },
  "language_info": {
   "codemirror_mode": {
    "name": "ipython",
    "version": 3
   },
   "file_extension": ".py",
   "mimetype": "text/x-python",
   "name": "python",
   "nbconvert_exporter": "python",
   "pygments_lexer": "ipython3",
   "version": "3.9.12"
  }
 },
 "nbformat": 4,
 "nbformat_minor": 4
}
